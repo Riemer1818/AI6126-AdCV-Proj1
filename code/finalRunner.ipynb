{
  "cells": [
    {
      "cell_type": "code",
      "execution_count": null,
      "metadata": {
        "id": "N5yklAHXbc6z"
      },
      "outputs": [],
      "source": [
        "from google.colab import drive\n",
        "\n",
        "drive.mount('/content/drive')\n",
        "\n",
        "!unzip \"/content/drive/MyDrive/data/FashionDataset.zip\""
      ]
    },
    {
      "cell_type": "code",
      "execution_count": null,
      "metadata": {
        "colab": {
          "base_uri": "https://localhost:8080/"
        },
        "id": "9ZY7q2Nnb463",
        "outputId": "bfea19dc-20ec-4b54-8038-6695ccff564b"
      },
      "outputs": [
        {
          "output_type": "stream",
          "name": "stdout",
          "text": [
            "using cuda:0\n",
            "/content/Advancedcv3.py:228: RuntimeWarning: divide by zero encountered in divide\n",
            "  relative_abundances = 1/relative_abundances\n",
            "config.json: 100% 502/502 [00:00<00:00, 2.63MB/s]\n",
            "model.safetensors: 100% 346M/346M [00:04<00:00, 73.3MB/s]\n",
            "Some weights of ViTForImageClassification were not initialized from the model checkpoint at google/vit-base-patch16-224-in21k and are newly initialized: ['classifier.bias', 'classifier.weight']\n",
            "You should probably TRAIN this model on a down-stream task to be able to use it for predictions and inference.\n",
            "Epoch 1/20: Train Loss: 1.1536, Val Loss: 1.0889, Average Class Accuracy: 0.43, Total Accuracy: 0.65, Metric: 0.28\n",
            "Epoch 2/20: Train Loss: 1.1331, Val Loss: 1.0821, Average Class Accuracy: 0.46, Total Accuracy: 0.64, Metric: 0.29\n",
            "Epoch 3/20: Train Loss: 1.1193, Val Loss: 1.0751, Average Class Accuracy: 0.50, Total Accuracy: 0.66, Metric: 0.33\n",
            "Epoch 4/20: Train Loss: 1.1102, Val Loss: 1.0717, Average Class Accuracy: 0.50, Total Accuracy: 0.67, Metric: 0.34\n",
            "Epoch 5/20: Train Loss: 1.1032, Val Loss: 1.0670, Average Class Accuracy: 0.52, Total Accuracy: 0.68, Metric: 0.35\n",
            "Epoch 6/20: Train Loss: 1.0961, Val Loss: 1.0645, Average Class Accuracy: 0.54, Total Accuracy: 0.69, Metric: 0.37\n",
            "Epoch 7/20: Train Loss: 1.0899, Val Loss: 1.0620, Average Class Accuracy: 0.54, Total Accuracy: 0.68, Metric: 0.37\n",
            "Epoch 8/20: Train Loss: 1.0845, Val Loss: 1.0590, Average Class Accuracy: 0.55, Total Accuracy: 0.71, Metric: 0.39\n",
            "Epoch 9/20: Train Loss: 1.0794, Val Loss: 1.0569, Average Class Accuracy: 0.55, Total Accuracy: 0.71, Metric: 0.39\n",
            "Epoch 10/20: Train Loss: 1.0747, Val Loss: 1.0565, Average Class Accuracy: 0.57, Total Accuracy: 0.72, Metric: 0.41\n",
            "Epoch 11/20: Train Loss: 1.0702, Val Loss: 1.0538, Average Class Accuracy: 0.57, Total Accuracy: 0.73, Metric: 0.41\n",
            "Epoch 12/20: Train Loss: 1.0654, Val Loss: 1.0515, Average Class Accuracy: 0.58, Total Accuracy: 0.72, Metric: 0.41\n",
            "Epoch 13/20: Train Loss: 1.0606, Val Loss: 1.0495, Average Class Accuracy: 0.60, Total Accuracy: 0.73, Metric: 0.44\n",
            "Epoch 14/20: Train Loss: 1.0561, Val Loss: 1.0483, Average Class Accuracy: 0.58, Total Accuracy: 0.73, Metric: 0.42\n",
            "Epoch 15/20: Train Loss: 1.0519, Val Loss: 1.0471, Average Class Accuracy: 0.59, Total Accuracy: 0.74, Metric: 0.44\n",
            "Epoch 16/20: Train Loss: 1.0480, Val Loss: 1.0458, Average Class Accuracy: 0.60, Total Accuracy: 0.74, Metric: 0.44\n",
            "Epoch 17/20: Train Loss: 1.0444, Val Loss: 1.0446, Average Class Accuracy: 0.57, Total Accuracy: 0.75, Metric: 0.43\n",
            "Epoch 18/20: Train Loss: 1.0412, Val Loss: 1.0436, Average Class Accuracy: 0.57, Total Accuracy: 0.74, Metric: 0.42\n",
            "Epoch 19/20: Train Loss: 1.0384, Val Loss: 1.0429, Average Class Accuracy: 0.57, Total Accuracy: 0.74, Metric: 0.43\n",
            "Epoch 20/20: Train Loss: 1.0355, Val Loss: 1.0421, Average Class Accuracy: 0.58, Total Accuracy: 0.75, Metric: 0.43\n",
            "Some weights of ViTForImageClassification were not initialized from the model checkpoint at google/vit-base-patch16-224-in21k and are newly initialized: ['classifier.bias', 'classifier.weight']\n",
            "You should probably TRAIN this model on a down-stream task to be able to use it for predictions and inference.\n"
          ]
        }
      ],
      "source": [
        "!python finalCode.py 1 20 32 0.000310 0.22"
      ]
    },
    {
      "cell_type": "code",
      "source": [
        "!python finalCode.py 1 20 32 0.0004 0.22"
      ],
      "metadata": {
        "colab": {
          "base_uri": "https://localhost:8080/"
        },
        "id": "k3gOFCOWP-Ez",
        "outputId": "27d54eba-cc6f-4741-c1c5-d8c265a38aa5"
      },
      "execution_count": null,
      "outputs": [
        {
          "output_type": "stream",
          "name": "stdout",
          "text": [
            "using cuda:0\n",
            "/content/Advancedcv3.py:228: RuntimeWarning: divide by zero encountered in divide\n",
            "  relative_abundances = 1/relative_abundances\n",
            "Some weights of ViTForImageClassification were not initialized from the model checkpoint at google/vit-base-patch16-224-in21k and are newly initialized: ['classifier.bias', 'classifier.weight']\n",
            "You should probably TRAIN this model on a down-stream task to be able to use it for predictions and inference.\n",
            "Epoch 1/20: Train Loss: 1.1580, Val Loss: 1.0937, Average Class Accuracy: 0.41, Total Accuracy: 0.68, Metric: 0.28\n",
            "Epoch 2/20: Train Loss: 1.1373, Val Loss: 1.0886, Average Class Accuracy: 0.45, Total Accuracy: 0.65, Metric: 0.29\n",
            "Epoch 3/20: Train Loss: 1.1207, Val Loss: 1.0818, Average Class Accuracy: 0.50, Total Accuracy: 0.63, Metric: 0.32\n",
            "Epoch 4/20: Train Loss: 1.1098, Val Loss: 1.0789, Average Class Accuracy: 0.48, Total Accuracy: 0.69, Metric: 0.33\n",
            "Epoch 5/20: Train Loss: 1.1014, Val Loss: 1.0777, Average Class Accuracy: 0.49, Total Accuracy: 0.68, Metric: 0.33\n",
            "Epoch 6/20: Train Loss: 1.0966, Val Loss: 1.0761, Average Class Accuracy: 0.49, Total Accuracy: 0.64, Metric: 0.31\n",
            "Epoch 7/20: Train Loss: 1.0912, Val Loss: 1.0722, Average Class Accuracy: 0.55, Total Accuracy: 0.64, Metric: 0.35\n",
            "Epoch 8/20: Train Loss: 1.0872, Val Loss: 1.0693, Average Class Accuracy: 0.54, Total Accuracy: 0.66, Metric: 0.36\n",
            "Epoch 9/20: Train Loss: 1.0839, Val Loss: 1.0679, Average Class Accuracy: 0.50, Total Accuracy: 0.66, Metric: 0.33\n",
            "Epoch 10/20: Train Loss: 1.0804, Val Loss: 1.0671, Average Class Accuracy: 0.52, Total Accuracy: 0.67, Metric: 0.35\n",
            "Epoch 11/20: Train Loss: 1.0761, Val Loss: 1.0663, Average Class Accuracy: 0.55, Total Accuracy: 0.69, Metric: 0.38\n",
            "Epoch 12/20: Train Loss: 1.0722, Val Loss: 1.0644, Average Class Accuracy: 0.55, Total Accuracy: 0.70, Metric: 0.38\n",
            "Epoch 13/20: Train Loss: 1.0687, Val Loss: 1.0621, Average Class Accuracy: 0.55, Total Accuracy: 0.67, Metric: 0.37\n",
            "Epoch 14/20: Train Loss: 1.0649, Val Loss: 1.0602, Average Class Accuracy: 0.56, Total Accuracy: 0.70, Metric: 0.40\n",
            "Epoch 15/20: Train Loss: 1.0616, Val Loss: 1.0599, Average Class Accuracy: 0.55, Total Accuracy: 0.70, Metric: 0.39\n",
            "Epoch 16/20: Train Loss: 1.0584, Val Loss: 1.0583, Average Class Accuracy: 0.54, Total Accuracy: 0.71, Metric: 0.39\n",
            "Epoch 17/20: Train Loss: 1.0554, Val Loss: 1.0574, Average Class Accuracy: 0.55, Total Accuracy: 0.72, Metric: 0.39\n",
            "Epoch 18/20: Train Loss: 1.0526, Val Loss: 1.0561, Average Class Accuracy: 0.56, Total Accuracy: 0.72, Metric: 0.41\n",
            "Epoch 19/20: Train Loss: 1.0500, Val Loss: 1.0549, Average Class Accuracy: 0.57, Total Accuracy: 0.72, Metric: 0.41\n",
            "Epoch 20/20: Train Loss: 1.0476, Val Loss: 1.0540, Average Class Accuracy: 0.54, Total Accuracy: 0.72, Metric: 0.39\n",
            "Some weights of ViTForImageClassification were not initialized from the model checkpoint at google/vit-base-patch16-224-in21k and are newly initialized: ['classifier.bias', 'classifier.weight']\n",
            "You should probably TRAIN this model on a down-stream task to be able to use it for predictions and inference.\n"
          ]
        }
      ]
    },
    {
      "cell_type": "code",
      "source": [
        "!python finalCode.py 1 20 32 0.000310 0.3"
      ],
      "metadata": {
        "colab": {
          "base_uri": "https://localhost:8080/"
        },
        "id": "MzeTI0dEQDUF",
        "outputId": "48633b64-5981-4416-e1d4-75bb353c6d08"
      },
      "execution_count": null,
      "outputs": [
        {
          "output_type": "stream",
          "name": "stdout",
          "text": [
            "using cuda:0\n",
            "/content/Advancedcv3.py:228: RuntimeWarning: divide by zero encountered in divide\n",
            "  relative_abundances = 1/relative_abundances\n",
            "Some weights of ViTForImageClassification were not initialized from the model checkpoint at google/vit-base-patch16-224-in21k and are newly initialized: ['classifier.bias', 'classifier.weight']\n",
            "You should probably TRAIN this model on a down-stream task to be able to use it for predictions and inference.\n",
            "Epoch 1/20: Train Loss: 1.1608, Val Loss: 1.0929, Average Class Accuracy: 0.43, Total Accuracy: 0.65, Metric: 0.28\n",
            "Epoch 2/20: Train Loss: 1.1307, Val Loss: 1.0905, Average Class Accuracy: 0.44, Total Accuracy: 0.63, Metric: 0.28\n",
            "Epoch 3/20: Train Loss: 1.1182, Val Loss: 1.0869, Average Class Accuracy: 0.46, Total Accuracy: 0.67, Metric: 0.31\n",
            "Epoch 4/20: Train Loss: 1.1092, Val Loss: 1.0841, Average Class Accuracy: 0.47, Total Accuracy: 0.64, Metric: 0.30\n",
            "Epoch 5/20: Train Loss: 1.1010, Val Loss: 1.0830, Average Class Accuracy: 0.49, Total Accuracy: 0.62, Metric: 0.31\n",
            "Epoch 6/20: Train Loss: 1.0937, Val Loss: 1.0851, Average Class Accuracy: 0.52, Total Accuracy: 0.69, Metric: 0.36\n",
            "Epoch 7/20: Train Loss: 1.0880, Val Loss: 1.0804, Average Class Accuracy: 0.52, Total Accuracy: 0.63, Metric: 0.33\n",
            "Epoch 8/20: Train Loss: 1.0818, Val Loss: 1.0772, Average Class Accuracy: 0.51, Total Accuracy: 0.69, Metric: 0.36\n",
            "Epoch 9/20: Train Loss: 1.0779, Val Loss: 1.0741, Average Class Accuracy: 0.52, Total Accuracy: 0.69, Metric: 0.36\n",
            "Epoch 10/20: Train Loss: 1.0738, Val Loss: 1.0718, Average Class Accuracy: 0.54, Total Accuracy: 0.70, Metric: 0.38\n",
            "Epoch 11/20: Train Loss: 1.0698, Val Loss: 1.0698, Average Class Accuracy: 0.55, Total Accuracy: 0.70, Metric: 0.39\n",
            "Epoch 12/20: Train Loss: 1.0654, Val Loss: 1.0681, Average Class Accuracy: 0.52, Total Accuracy: 0.71, Metric: 0.37\n",
            "Epoch 13/20: Train Loss: 1.0612, Val Loss: 1.0669, Average Class Accuracy: 0.52, Total Accuracy: 0.70, Metric: 0.37\n",
            "Epoch 14/20: Train Loss: 1.0575, Val Loss: 1.0682, Average Class Accuracy: 0.55, Total Accuracy: 0.71, Metric: 0.39\n",
            "Epoch 15/20: Train Loss: 1.0539, Val Loss: 1.0668, Average Class Accuracy: 0.57, Total Accuracy: 0.71, Metric: 0.40\n",
            "Epoch 16/20: Train Loss: 1.0504, Val Loss: 1.0653, Average Class Accuracy: 0.53, Total Accuracy: 0.70, Metric: 0.37\n",
            "Epoch 17/20: Train Loss: 1.0474, Val Loss: 1.0640, Average Class Accuracy: 0.56, Total Accuracy: 0.71, Metric: 0.40\n",
            "Epoch 18/20: Train Loss: 1.0449, Val Loss: 1.0629, Average Class Accuracy: 0.55, Total Accuracy: 0.72, Metric: 0.39\n",
            "Epoch 19/20: Train Loss: 1.0421, Val Loss: 1.0627, Average Class Accuracy: 0.53, Total Accuracy: 0.72, Metric: 0.38\n",
            "Epoch 20/20: Train Loss: 1.0396, Val Loss: 1.0619, Average Class Accuracy: 0.56, Total Accuracy: 0.72, Metric: 0.40\n",
            "Some weights of ViTForImageClassification were not initialized from the model checkpoint at google/vit-base-patch16-224-in21k and are newly initialized: ['classifier.bias', 'classifier.weight']\n",
            "You should probably TRAIN this model on a down-stream task to be able to use it for predictions and inference.\n"
          ]
        }
      ]
    },
    {
      "cell_type": "code",
      "source": [
        "!python finalCode.py 1 50 32 0.0000310 0.22"
      ],
      "metadata": {
        "colab": {
          "base_uri": "https://localhost:8080/"
        },
        "id": "2mLCqED6mUtB",
        "outputId": "992bfaf7-1805-496e-92a4-b76854eb0322"
      },
      "execution_count": null,
      "outputs": [
        {
          "output_type": "stream",
          "name": "stdout",
          "text": [
            "using cuda:0\n",
            "/content/Advancedcv3.py:228: RuntimeWarning: divide by zero encountered in divide\n",
            "  relative_abundances = 1/relative_abundances\n",
            "Some weights of ViTForImageClassification were not initialized from the model checkpoint at google/vit-base-patch16-224-in21k and are newly initialized: ['classifier.bias', 'classifier.weight']\n",
            "You should probably TRAIN this model on a down-stream task to be able to use it for predictions and inference.\n",
            "Epoch 1/50: Train Loss: 1.2087, Val Loss: 1.1642, Average Class Accuracy: 0.24, Total Accuracy: 0.61, Metric: 0.15\n",
            "Epoch 2/50: Train Loss: 1.1888, Val Loss: 1.1465, Average Class Accuracy: 0.35, Total Accuracy: 0.65, Metric: 0.23\n",
            "Epoch 3/50: Train Loss: 1.1711, Val Loss: 1.1317, Average Class Accuracy: 0.39, Total Accuracy: 0.63, Metric: 0.25\n",
            "Epoch 4/50: Train Loss: 1.1561, Val Loss: 1.1225, Average Class Accuracy: 0.42, Total Accuracy: 0.63, Metric: 0.26\n",
            "Epoch 5/50: Train Loss: 1.1443, Val Loss: 1.1148, Average Class Accuracy: 0.44, Total Accuracy: 0.62, Metric: 0.27\n",
            "Epoch 6/50: Train Loss: 1.1342, Val Loss: 1.1094, Average Class Accuracy: 0.46, Total Accuracy: 0.61, Metric: 0.28\n",
            "Epoch 7/50: Train Loss: 1.1256, Val Loss: 1.1065, Average Class Accuracy: 0.49, Total Accuracy: 0.63, Metric: 0.31\n",
            "Epoch 8/50: Train Loss: 1.1178, Val Loss: 1.1020, Average Class Accuracy: 0.48, Total Accuracy: 0.63, Metric: 0.30\n",
            "Epoch 9/50: Train Loss: 1.1107, Val Loss: 1.0980, Average Class Accuracy: 0.50, Total Accuracy: 0.62, Metric: 0.31\n",
            "Epoch 10/50: Train Loss: 1.1047, Val Loss: 1.0950, Average Class Accuracy: 0.51, Total Accuracy: 0.64, Metric: 0.33\n",
            "Epoch 11/50: Train Loss: 1.0988, Val Loss: 1.0918, Average Class Accuracy: 0.51, Total Accuracy: 0.64, Metric: 0.32\n",
            "Epoch 12/50: Train Loss: 1.0934, Val Loss: 1.0892, Average Class Accuracy: 0.51, Total Accuracy: 0.63, Metric: 0.32\n",
            "Epoch 13/50: Train Loss: 1.0883, Val Loss: 1.0864, Average Class Accuracy: 0.50, Total Accuracy: 0.66, Metric: 0.33\n",
            "Epoch 14/50: Train Loss: 1.0836, Val Loss: 1.0853, Average Class Accuracy: 0.52, Total Accuracy: 0.65, Metric: 0.34\n",
            "Epoch 15/50: Train Loss: 1.0792, Val Loss: 1.0830, Average Class Accuracy: 0.53, Total Accuracy: 0.66, Metric: 0.35\n",
            "Epoch 16/50: Train Loss: 1.0752, Val Loss: 1.0819, Average Class Accuracy: 0.51, Total Accuracy: 0.67, Metric: 0.35\n",
            "Epoch 17/50: Train Loss: 1.0714, Val Loss: 1.0796, Average Class Accuracy: 0.53, Total Accuracy: 0.67, Metric: 0.36\n",
            "Epoch 18/50: Train Loss: 1.0678, Val Loss: 1.0822, Average Class Accuracy: 0.53, Total Accuracy: 0.67, Metric: 0.36\n",
            "Epoch 19/50: Train Loss: 1.0642, Val Loss: 1.0806, Average Class Accuracy: 0.52, Total Accuracy: 0.67, Metric: 0.34\n",
            "Epoch 20/50: Train Loss: 1.0610, Val Loss: 1.0786, Average Class Accuracy: 0.53, Total Accuracy: 0.68, Metric: 0.36\n",
            "Epoch 21/50: Train Loss: 1.0578, Val Loss: 1.0772, Average Class Accuracy: 0.54, Total Accuracy: 0.68, Metric: 0.37\n",
            "Epoch 22/50: Train Loss: 1.0549, Val Loss: 1.0761, Average Class Accuracy: 0.53, Total Accuracy: 0.67, Metric: 0.36\n",
            "Epoch 23/50: Train Loss: 1.0520, Val Loss: 1.0755, Average Class Accuracy: 0.54, Total Accuracy: 0.68, Metric: 0.37\n",
            "Epoch 24/50: Train Loss: 1.0493, Val Loss: 1.0743, Average Class Accuracy: 0.54, Total Accuracy: 0.69, Metric: 0.37\n",
            "Epoch 25/50: Train Loss: 1.0468, Val Loss: 1.0733, Average Class Accuracy: 0.53, Total Accuracy: 0.68, Metric: 0.36\n",
            "Epoch 26/50: Train Loss: 1.0444, Val Loss: 1.0726, Average Class Accuracy: 0.54, Total Accuracy: 0.69, Metric: 0.37\n",
            "Epoch 27/50: Train Loss: 1.0421, Val Loss: 1.0719, Average Class Accuracy: 0.55, Total Accuracy: 0.69, Metric: 0.38\n",
            "Epoch 28/50: Train Loss: 1.0399, Val Loss: 1.0710, Average Class Accuracy: 0.54, Total Accuracy: 0.69, Metric: 0.37\n",
            "Epoch 29/50: Train Loss: 1.0378, Val Loss: 1.0700, Average Class Accuracy: 0.54, Total Accuracy: 0.69, Metric: 0.37\n",
            "Epoch 30/50: Train Loss: 1.0358, Val Loss: 1.0691, Average Class Accuracy: 0.55, Total Accuracy: 0.69, Metric: 0.38\n",
            "Epoch 31/50: Train Loss: 1.0339, Val Loss: 1.0685, Average Class Accuracy: 0.53, Total Accuracy: 0.69, Metric: 0.37\n",
            "Epoch 32/50: Train Loss: 1.0321, Val Loss: 1.0682, Average Class Accuracy: 0.53, Total Accuracy: 0.69, Metric: 0.37\n",
            "Epoch 33/50: Train Loss: 1.0303, Val Loss: 1.0676, Average Class Accuracy: 0.54, Total Accuracy: 0.69, Metric: 0.37\n",
            "Epoch 34/50: Train Loss: 1.0287, Val Loss: 1.0672, Average Class Accuracy: 0.54, Total Accuracy: 0.69, Metric: 0.37\n",
            "Epoch 35/50: Train Loss: 1.0271, Val Loss: 1.0666, Average Class Accuracy: 0.54, Total Accuracy: 0.70, Metric: 0.38\n",
            "Epoch 36/50: Train Loss: 1.0255, Val Loss: 1.0660, Average Class Accuracy: 0.54, Total Accuracy: 0.70, Metric: 0.38\n",
            "Epoch 37/50: Train Loss: 1.0240, Val Loss: 1.0655, Average Class Accuracy: 0.54, Total Accuracy: 0.70, Metric: 0.38\n",
            "Epoch 38/50: Train Loss: 1.0225, Val Loss: 1.0652, Average Class Accuracy: 0.54, Total Accuracy: 0.69, Metric: 0.37\n",
            "Epoch 39/50: Train Loss: 1.0212, Val Loss: 1.0647, Average Class Accuracy: 0.54, Total Accuracy: 0.70, Metric: 0.38\n",
            "Epoch 40/50: Train Loss: 1.0199, Val Loss: 1.0643, Average Class Accuracy: 0.54, Total Accuracy: 0.70, Metric: 0.37\n",
            "Epoch 41/50: Train Loss: 1.0187, Val Loss: 1.0641, Average Class Accuracy: 0.54, Total Accuracy: 0.69, Metric: 0.37\n",
            "Epoch 42/50: Train Loss: 1.0175, Val Loss: 1.0636, Average Class Accuracy: 0.55, Total Accuracy: 0.70, Metric: 0.38\n",
            "Epoch 43/50: Train Loss: 1.0163, Val Loss: 1.0631, Average Class Accuracy: 0.54, Total Accuracy: 0.69, Metric: 0.38\n",
            "Epoch 44/50: Train Loss: 1.0152, Val Loss: 1.0628, Average Class Accuracy: 0.54, Total Accuracy: 0.70, Metric: 0.38\n",
            "Epoch 45/50: Train Loss: 1.0141, Val Loss: 1.0627, Average Class Accuracy: 0.54, Total Accuracy: 0.70, Metric: 0.38\n",
            "Epoch 46/50: Train Loss: 1.0132, Val Loss: 1.0623, Average Class Accuracy: 0.54, Total Accuracy: 0.70, Metric: 0.38\n",
            "Epoch 47/50: Train Loss: 1.0122, Val Loss: 1.0619, Average Class Accuracy: 0.54, Total Accuracy: 0.70, Metric: 0.38\n",
            "Epoch 48/50: Train Loss: 1.0113, Val Loss: 1.0616, Average Class Accuracy: 0.53, Total Accuracy: 0.69, Metric: 0.37\n",
            "Epoch 49/50: Train Loss: 1.0104, Val Loss: 1.0613, Average Class Accuracy: 0.54, Total Accuracy: 0.70, Metric: 0.38\n",
            "Epoch 50/50: Train Loss: 1.0096, Val Loss: 1.0609, Average Class Accuracy: 0.54, Total Accuracy: 0.69, Metric: 0.37\n",
            "Some weights of ViTForImageClassification were not initialized from the model checkpoint at google/vit-base-patch16-224-in21k and are newly initialized: ['classifier.bias', 'classifier.weight']\n",
            "You should probably TRAIN this model on a down-stream task to be able to use it for predictions and inference.\n"
          ]
        }
      ]
    },
    {
      "cell_type": "code",
      "source": [
        "!python finalCode.py 1 10 32 0.00310 0.22"
      ],
      "metadata": {
        "colab": {
          "base_uri": "https://localhost:8080/"
        },
        "id": "KInazYXCmy8f",
        "outputId": "751026b3-c19d-4683-d625-804330d63b91"
      },
      "execution_count": null,
      "outputs": [
        {
          "output_type": "stream",
          "name": "stdout",
          "text": [
            "using cuda:0\n",
            "/content/Advancedcv3.py:228: RuntimeWarning: divide by zero encountered in divide\n",
            "  relative_abundances = 1/relative_abundances\n",
            "Some weights of ViTForImageClassification were not initialized from the model checkpoint at google/vit-base-patch16-224-in21k and are newly initialized: ['classifier.bias', 'classifier.weight']\n",
            "You should probably TRAIN this model on a down-stream task to be able to use it for predictions and inference.\n",
            "Epoch 1/10: Train Loss: 1.2212, Val Loss: 1.2009, Average Class Accuracy: 0.23, Total Accuracy: 0.52, Metric: 0.12\n",
            "Epoch 2/10: Train Loss: 1.2244, Val Loss: 1.1974, Average Class Accuracy: 0.23, Total Accuracy: 0.52, Metric: 0.12\n",
            "Epoch 3/10: Train Loss: 1.2258, Val Loss: 1.2221, Average Class Accuracy: 0.23, Total Accuracy: 0.52, Metric: 0.12\n",
            "Epoch 4/10: Train Loss: 1.2265, Val Loss: 1.2145, Average Class Accuracy: 0.23, Total Accuracy: 0.52, Metric: 0.12\n",
            "Epoch 5/10: Train Loss: 1.2265, Val Loss: 1.2102, Average Class Accuracy: 0.23, Total Accuracy: 0.52, Metric: 0.12\n",
            "Epoch 6/10: Train Loss: 1.2267, Val Loss: 1.2071, Average Class Accuracy: 0.23, Total Accuracy: 0.52, Metric: 0.12\n",
            "Epoch 7/10: Train Loss: 1.2268, Val Loss: 1.2053, Average Class Accuracy: 0.23, Total Accuracy: 0.52, Metric: 0.12\n",
            "Epoch 8/10: Train Loss: 1.2267, Val Loss: 1.2042, Average Class Accuracy: 0.23, Total Accuracy: 0.52, Metric: 0.12\n",
            "Epoch 9/10: Train Loss: 1.2269, Val Loss: 1.2036, Average Class Accuracy: 0.23, Total Accuracy: 0.52, Metric: 0.12\n",
            "Epoch 10/10: Train Loss: 1.2275, Val Loss: 1.2027, Average Class Accuracy: 0.23, Total Accuracy: 0.52, Metric: 0.12\n",
            "Some weights of ViTForImageClassification were not initialized from the model checkpoint at google/vit-base-patch16-224-in21k and are newly initialized: ['classifier.bias', 'classifier.weight']\n",
            "You should probably TRAIN this model on a down-stream task to be able to use it for predictions and inference.\n"
          ]
        }
      ]
    }
  ],
  "metadata": {
    "accelerator": "GPU",
    "colab": {
      "gpuType": "T4",
      "machine_shape": "hm",
      "provenance": []
    },
    "kernelspec": {
      "display_name": "Python 3",
      "name": "python3"
    },
    "language_info": {
      "name": "python"
    }
  },
  "nbformat": 4,
  "nbformat_minor": 0
}